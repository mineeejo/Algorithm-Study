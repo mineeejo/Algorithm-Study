{
 "cells": [
  {
   "cell_type": "code",
   "execution_count": 71,
   "id": "1323a277",
   "metadata": {},
   "outputs": [
    {
     "data": {
      "text/plain": [
       "''"
      ]
     },
     "execution_count": 71,
     "metadata": {},
     "output_type": "execute_result"
    }
   ],
   "source": [
    "moxs = []\n",
    "\n",
    "while n != 0:\n",
    "    if n % 3 == 0 :\n",
    "        moxs.append(3)\n",
    "        n = n//3 -1\n",
    "    else:\n",
    "        moxs.append(n%3)\n",
    "        n = n//3\n",
    "    \n",
    "for i in range(len(moxs)):\n",
    "    if moxs[i] == 0:\n",
    "        moxs[i] = ''\n",
    "        \n",
    "    elif moxs[i] == 1:\n",
    "        moxs[i] = '1'\n",
    "        \n",
    "    elif moxs[i] == 2:\n",
    "        moxs[i] = '2'\n",
    "    elif moxs[i] == 3:\n",
    "        moxs[i] = '4'\n",
    "\n",
    "''.join(reversed(moxs))"
   ]
  },
  {
   "cell_type": "code",
   "execution_count": 70,
   "id": "c5fc2ab1",
   "metadata": {},
   "outputs": [
    {
     "data": {
      "text/plain": [
       "''"
      ]
     },
     "execution_count": 70,
     "metadata": {},
     "output_type": "execute_result"
    }
   ],
   "source": [
    "num = ['1','2','4']\n",
    "answer = ''\n",
    "\n",
    "while n > 0:\n",
    "    n -= 1\n",
    "    answer = num[n%3] + answer\n",
    "    n //= 3\n",
    "answer\n",
    "\n",
    "# 아니 어떻게 n -= 1 을 할 생각을 하지 ...?"
   ]
  }
 ],
 "metadata": {
  "kernelspec": {
   "display_name": "ds_study",
   "language": "python",
   "name": "ds_study"
  },
  "language_info": {
   "codemirror_mode": {
    "name": "ipython",
    "version": 3
   },
   "file_extension": ".py",
   "mimetype": "text/x-python",
   "name": "python",
   "nbconvert_exporter": "python",
   "pygments_lexer": "ipython3",
   "version": "3.8.11"
  }
 },
 "nbformat": 4,
 "nbformat_minor": 5
}
